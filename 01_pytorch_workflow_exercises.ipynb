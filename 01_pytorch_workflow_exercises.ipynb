{
 "cells": [
  {
   "cell_type": "markdown",
   "metadata": {
    "colab_type": "text",
    "id": "view-in-github"
   },
   "source": [
    "<a href=\"https://colab.research.google.com/github/mrdbourke/pytorch-deep-learning/blob/main/extras/exercises/01_pytorch_workflow_exercises.ipynb\" target=\"_parent\"><img src=\"https://colab.research.google.com/assets/colab-badge.svg\" alt=\"Open In Colab\"/></a>"
   ]
  },
  {
   "cell_type": "markdown",
   "metadata": {
    "id": "N8LsPXZti9Sw"
   },
   "source": [
    "# 01. PyTorch Workflow Exercise Template\n",
    "\n",
    "The following is a template for the PyTorch workflow exercises.\n",
    "\n",
    "It's only starter code and it's your job to fill in the blanks.\n",
    "\n",
    "Because of the flexibility of PyTorch, there may be more than one way to answer the question.\n",
    "\n",
    "Don't worry about trying to be *right* just try writing code that suffices the question.\n",
    "\n",
    "You can see one form of [solutions on GitHub](https://github.com/mrdbourke/pytorch-deep-learning/tree/main/extras/solutions) (but try the exercises below yourself first!)."
   ]
  },
  {
   "cell_type": "code",
   "execution_count": 1,
   "metadata": {
    "id": "Glu2fM4dkNlx"
   },
   "outputs": [],
   "source": [
    "# Import necessary libraries\n",
    "import os\n",
    "import math\n",
    "import numpy as np \n",
    "import time\n",
    "\n",
    "\n",
    "import matplotlib\n",
    "import matplotlib.pyplot as plt\n",
    "%matplotlib inline \n",
    "\n",
    "\n",
    "from matplotlib.colors import to_rgba\n",
    "import seaborn as sns\n",
    "sns.set()\n",
    "\n",
    "from tqdm.notebook import tqdm\n",
    "\n",
    "import torch"
   ]
  },
  {
   "cell_type": "code",
   "execution_count": 2,
   "metadata": {
    "id": "LqKhXY26m31s"
   },
   "outputs": [],
   "source": [
    "# Setup device-agnostic code"
   ]
  },
  {
   "cell_type": "markdown",
   "metadata": {
    "id": "g7HUhxCxjeBx"
   },
   "source": [
    "## 1. Create a straight line dataset using the linear regression formula (`weight * X + bias`).\n",
    "  * Set `weight=0.3` and `bias=0.9` there should be at least 100 datapoints total. \n",
    "  * Split the data into 80% training, 20% testing.\n",
    "  * Plot the training and testing data so it becomes visual.\n",
    "\n",
    "Your output of the below cell should look something like:\n",
    "```\n",
    "Number of X samples: 100\n",
    "Number of y samples: 100\n",
    "First 10 X & y samples:\n",
    "X: tensor([0.0000, 0.0100, 0.0200, 0.0300, 0.0400, 0.0500, 0.0600, 0.0700, 0.0800,\n",
    "        0.0900])\n",
    "y: tensor([0.9000, 0.9030, 0.9060, 0.9090, 0.9120, 0.9150, 0.9180, 0.9210, 0.9240,\n",
    "        0.9270])\n",
    "```\n",
    "\n",
    "Of course the numbers in `X` and `y` may be different but ideally they're created using the linear regression formula."
   ]
  },
  {
   "cell_type": "code",
   "execution_count": 3,
   "metadata": {
    "id": "KbDG5MV7jhvE"
   },
   "outputs": [
    {
     "name": "stdout",
     "output_type": "stream",
     "text": [
      "Number of X samples: 100\n",
      "Number of y samples: 100\n",
      "First 10 X & y samples:\n",
      "X: tensor([0.0000, 0.0100, 0.0200, 0.0300, 0.0400, 0.0500, 0.0600, 0.0700, 0.0800,\n",
      "        0.0900])\n",
      "y: tensor([0.9000, 0.9030, 0.9060, 0.9090, 0.9120, 0.9150, 0.9180, 0.9210, 0.9240,\n",
      "        0.9270])\n"
     ]
    }
   ],
   "source": [
    "# Create the data parameters\n",
    "weight = 0.3\n",
    "bias = 0.9\n",
    "\n",
    "# Make X and y using linear regression feature\n",
    "\n",
    "X = torch.arange(0,1,0.01)\n",
    "y = weight * X + bias\n",
    "\n",
    "print(f\"Number of X samples: {len(X)}\")\n",
    "print(f\"Number of y samples: {len(y)}\")\n",
    "print(f\"First 10 X & y samples:\\nX: {X[:10]}\\ny: {y[:10]}\")"
   ]
  },
  {
   "cell_type": "code",
   "execution_count": 4,
   "metadata": {
    "id": "GlwtT1djkmLw"
   },
   "outputs": [],
   "source": [
    "# Split the data into training and testing\n",
    "\n",
    "num = torch.randperm(len(X))  \n",
    "\n",
    "X_shuffl = X[num]\n",
    "Y_shuffl = y[num]\n",
    "\n",
    "training_size = int(0.8 * len(X))  # 80% \n",
    "\n",
    "X_Train, X_Test = X_shuffl[:training_size], X_shuffl[training_size:]\n",
    "Y_Train, Y_Test = Y_shuffl[:training_size], Y_shuffl[training_size:]"
   ]
  },
  {
   "cell_type": "code",
   "execution_count": 5,
   "metadata": {
    "id": "29iQZFNhlYJ-"
   },
   "outputs": [
    {
     "data": {
      "image/png": "[encoded data removed]",
      "text/plain": [
       "<Figure size 640x480 with 1 Axes>"
      ]
     },
     "metadata": {},
     "output_type": "display_data"
    }
   ],
   "source": [
    "# Plot the training and testing data \n",
    "\n",
    "plt.scatter(X_Train, Y_Train, label = \"Training Data\", color='y')\n",
    "plt.scatter(X_Test, Y_Test, label = \"Testing Data\", color= 'g')\n",
    "\n",
    "plt.xlabel(\"X->\")\n",
    "plt.ylabel(\"Y->\")\n",
    "\n",
    "plt.legend()\n",
    "\n",
    "plt.show()"
   ]
  },
  {
   "cell_type": "markdown",
   "metadata": {
    "id": "ImZoe3v8jif8"
   },
   "source": [
    "## 2. Build a PyTorch model by subclassing `nn.Module`. \n",
    "  * Inside should be a randomly initialized `nn.Parameter()` with `requires_grad=True`, one for `weights` and one for `bias`. \n",
    "  * Implement the `forward()` method to compute the linear regression function you used to create the dataset in 1. \n",
    "  * Once you've constructed the model, make an instance of it and check its `state_dict()`.\n",
    "  * **Note:** If you'd like to use `nn.Linear()` instead of `nn.Parameter()` you can."
   ]
  },
  {
   "cell_type": "code",
   "execution_count": 6,
   "metadata": {
    "id": "qzd__Y5rjtB8"
   },
   "outputs": [],
   "source": [
    "# Create PyTorch linear regression model by subclassing nn.Module\n",
    "\n",
    "from torch import nn\n",
    "\n",
    "class LinearRegression(nn.Module):\n",
    "    \n",
    "    def __init__(self):\n",
    "        super(LinearRegression, self).__init__()\n",
    "        self.weights = nn.Parameter(torch.randn(1))  \n",
    "        self.bias = nn.Parameter(torch.randn(1))    \n",
    "\n",
    "    def forward(self, x):\n",
    "        return self.weights * x + self.bias"
   ]
  },
  {
   "cell_type": "code",
   "execution_count": 7,
   "metadata": {
    "id": "5LdcDnmOmyQ2"
   },
   "outputs": [
    {
     "name": "stdout",
     "output_type": "stream",
     "text": [
      "Model.: \n",
      "weights: tensor([0.0994])\n",
      "bias: tensor([-1.0735])\n"
     ]
    }
   ],
   "source": [
    "# Instantiate the model and put it to the target device\n",
    "\n",
    "model = LinearRegression()\n",
    "\n",
    "print(\"Model.: \")\n",
    "for parameter_name, parameter_value in model.state_dict().items():\n",
    "    print(f\"{parameter_name}: {parameter_value}\")"
   ]
  },
  {
   "cell_type": "markdown",
   "metadata": {
    "id": "G6nYOrJhjtfu"
   },
   "source": [
    "## 3. Create a loss function and optimizer using `nn.L1Loss()` and `torch.optim.SGD(params, lr)` respectively. \n",
    "  * Set the learning rate of the optimizer to be 0.01 and the parameters to optimize should be the model parameters from the model you created in 2.\n",
    "  * Write a training loop to perform the appropriate training steps for 300 epochs.\n",
    "  * The training loop should test the model on the test dataset every 20 epochs."
   ]
  },
  {
   "cell_type": "code",
   "execution_count": 8,
   "metadata": {
    "id": "ltvoZ-FWjv1j"
   },
   "outputs": [],
   "source": [
    "# Create the loss function and optimizer\n",
    "loss_function = nn.L1Loss()\n",
    "\n",
    "\n",
    "import torch.optim as optim\n",
    "\n",
    "optimizer = optim.SGD(model.parameters(), lr=0.01)"
   ]
  },
  {
   "cell_type": "code",
   "execution_count": 9,
   "metadata": {
    "id": "xpE83NvNnkdV"
   },
   "outputs": [
    {
     "name": "stdout",
     "output_type": "stream",
     "text": [
      "Epoch: 0 | Train loss: 2.073 | Test loss: 2.061\n",
      "Epoch: 20 | Train loss: 1.824 | Test loss: 1.812\n",
      "Epoch: 40 | Train loss: 1.575 | Test loss: 1.562\n",
      "Epoch: 60 | Train loss: 1.326 | Test loss: 1.313\n",
      "Epoch: 80 | Train loss: 1.077 | Test loss: 1.064\n",
      "Epoch: 100 | Train loss: 0.828 | Test loss: 0.815\n",
      "Epoch: 120 | Train loss: 0.579 | Test loss: 0.566\n",
      "Epoch: 140 | Train loss: 0.330 | Test loss: 0.316\n",
      "Epoch: 160 | Train loss: 0.178 | Test loss: 0.157\n",
      "Epoch: 180 | Train loss: 0.150 | Test loss: 0.128\n",
      "Epoch: 200 | Train loss: 0.136 | Test loss: 0.119\n",
      "Epoch: 220 | Train loss: 0.125 | Test loss: 0.110\n",
      "Epoch: 240 | Train loss: 0.115 | Test loss: 0.102\n",
      "Epoch: 260 | Train loss: 0.104 | Test loss: 0.093\n",
      "Epoch: 280 | Train loss: 0.094 | Test loss: 0.083\n"
     ]
    }
   ],
   "source": [
    "epochs = 300\n",
    "\n",
    "# Send data to target device\n",
    "\n",
    "for epoch in range(epochs):\n",
    "    model.train()\n",
    "    predictions = model(X_Train)\n",
    "    loss = loss_function(predictions, Y_Train)\n",
    "    optimizer.zero_grad()\n",
    "    loss.backward()\n",
    "    optimizer.step()\n",
    "    if epoch % 20 == 0:\n",
    "        model.eval()\n",
    "        with torch.no_grad():\n",
    "            p_test = model(X_Test)\n",
    "        test_loss = loss_function(p_test, Y_Test)\n",
    "        print(f\"Epoch: {epoch} | Train loss: {loss:.3f} | Test loss: {test_loss:.3f}\")"
   ]
  },
  {
   "cell_type": "markdown",
   "metadata": {
    "id": "x4j4TM18jwa7"
   },
   "source": [
    "## 4. Make predictions with the trained model on the test data.\n",
    "  * Visualize these predictions against the original training and testing data (**note:** you may need to make sure the predictions are *not* on the GPU if you want to use non-CUDA-enabled libraries such as matplotlib to plot)."
   ]
  },
  {
   "cell_type": "code",
   "execution_count": 10,
   "metadata": {
    "id": "bbMPK5Qjjyx_"
   },
   "outputs": [
    {
     "name": "stdout",
     "output_type": "stream",
     "text": [
      "True Values.: \n",
      "tensor([1.1400, 0.9900, 0.9930, 1.0530, 1.0920, 1.0830, 0.9630, 0.9330, 0.9420,\n",
      "        1.0110, 1.0950, 1.1670, 1.1640, 1.1190, 1.1100, 1.0350, 0.9660, 1.0740,\n",
      "        0.9180, 1.1370])\n",
      "\n",
      "Predictions.: \n",
      "[1.2247534  0.9121008  0.91835386 1.0434148  1.1247046  1.1059453\n",
      " 0.85582334 0.7932929  0.812052   0.9558722  1.1309576  1.2810308\n",
      " 1.2747778  1.180982   1.1622229  1.0058966  0.8620764  1.0871862\n",
      " 0.7620276  1.2185004 ]\n",
      "\n"
     ]
    }
   ],
   "source": [
    "model.eval()\n",
    "\n",
    "with torch.no_grad():\n",
    "    predictions = model(X_Test)  \n",
    "\n",
    "predictions = predictions.numpy()\n",
    "\n",
    "print(f\"True Values.: \\n{Y_Test}\\n\")\n",
    "print(f\"Predictions.: \\n{predictions}\\n\")"
   ]
  },
  {
   "cell_type": "code",
   "execution_count": 11,
   "metadata": {
    "id": "K3BdmQaDpFo8"
   },
   "outputs": [
    {
     "data": {
      "image/png": "[encoded data removed]",
      "text/plain": [
       "<Figure size 640x480 with 1 Axes>"
      ]
     },
     "metadata": {},
     "output_type": "display_data"
    }
   ],
   "source": [
    "plt.scatter(X_Test.numpy(), Y_Test.numpy(), label = \"True values\")\n",
    "plt.scatter(X_Test.numpy(), predictions, label = \"Predictions\")\n",
    "plt.xlabel(\"X->\")\n",
    "plt.ylabel(\"Y->\")\n",
    "plt.legend()\n",
    "plt.title(\"True Values Vs Predictions\")\n",
    "plt.show()"
   ]
  },
  {
   "cell_type": "markdown",
   "metadata": {
    "id": "s2OnlMWKjzX8"
   },
   "source": [
    "## 5. Save your trained model's `state_dict()` to file.\n",
    "  * Create a new instance of your model class you made in 2. and load in the `state_dict()` you just saved to it.\n",
    "  * Perform predictions on your test data with the loaded model and confirm they match the original model predictions from 4."
   ]
  },
  {
   "cell_type": "code",
   "execution_count": 12,
   "metadata": {
    "id": "hgxhgD14qr-i"
   },
   "outputs": [
    {
     "name": "stdout",
     "output_type": "stream",
     "text": [
      "Model saved to: models/linear_regression_model.pth\n"
     ]
    }
   ],
   "source": [
    "from pathlib import Path\n",
    "\n",
    "models_dir = Path(\"models\")\n",
    "models_dir.mkdir(parents=True, exist_ok=True)\n",
    "\n",
    "model_save_path = models_dir / \"linear_regression_model.pth\"\n",
    "torch.save(model.state_dict(), model_save_path)\n",
    "\n",
    "print(f\"Model saved to: {model_save_path}\")"
   ]
  },
  {
   "cell_type": "code",
   "execution_count": 13,
   "metadata": {
    "id": "P9vTgiLRrJ7T"
   },
   "outputs": [
    {
     "data": {
      "text/plain": [
       "<All keys matched successfully>"
      ]
     },
     "execution_count": 13,
     "metadata": {},
     "output_type": "execute_result"
    }
   ],
   "source": [
    "load_model = LinearRegression()\n",
    "load_model.load_state_dict(torch.load(model_save_path))"
   ]
  },
  {
   "cell_type": "code",
   "execution_count": 14,
   "metadata": {
    "id": "8UGX3VebrVtI"
   },
   "outputs": [
    {
     "name": "stdout",
     "output_type": "stream",
     "text": [
      "tensor([1.2248, 0.9121, 0.9184, 1.0434, 1.1247, 1.1059, 0.8558, 0.7933, 0.8121,\n",
      "        0.9559, 1.1310, 1.2810, 1.2748, 1.1810, 1.1622, 1.0059, 0.8621, 1.0872,\n",
      "        0.7620, 1.2185])\n",
      "tensor([1.2248, 0.9121, 0.9184, 1.0434, 1.1247, 1.1059, 0.8558, 0.7933, 0.8121,\n",
      "        0.9559, 1.1310, 1.2810, 1.2748, 1.1810, 1.1622, 1.0059, 0.8621, 1.0872,\n",
      "        0.7620, 1.2185])\n"
     ]
    }
   ],
   "source": [
    "model.eval()\n",
    "load_model.eval()\n",
    "\n",
    "with torch.no_grad():\n",
    "    corepredictions = model(X_Test)\n",
    "\n",
    "with torch.no_grad():\n",
    "    loadedpredictions = load_model(X_Test)\n",
    "\n",
    "print(corepredictions)\n",
    "print(loadedpredictions)"
   ]
  },
  {
   "cell_type": "code",
   "execution_count": null,
   "metadata": {},
   "outputs": [],
   "source": []
  }
 ],
 "metadata": {
  "accelerator": "GPU",
  "colab": {
   "authorship_tag": "ABX9TyNYzatJtFkfUqqdiR6rYwVL",
   "collapsed_sections": [],
   "include_colab_link": true,
   "name": "01_pytorch_workflow_exercises.ipynb",
   "provenance": []
  },
  "kernelspec": {
   "display_name": "Python 3 (ipykernel)",
   "language": "python",
   "name": "python3"
  },
  "language_info": {
   "codemirror_mode": {
    "name": "ipython",
    "version": 3
   },
   "file_extension": ".py",
   "mimetype": "text/x-python",
   "name": "python",
   "nbconvert_exporter": "python",
   "pygments_lexer": "ipython3",
   "version": "3.10.12"
  }
 },
 "nbformat": 4,
 "nbformat_minor": 4
}
